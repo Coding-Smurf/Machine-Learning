{
 "cells": [
  {
   "cell_type": "markdown",
   "id": "d11f2013",
   "metadata": {},
   "source": [
    " Clustering is an unsupervised learning technique, so it is hard to evaluate the quality of the output\n",
    " of any given method. Intuitively, the goal of clustering is to assign points that are similar to the same cluster, and to ensure that points that are dissimilar are in different clusters. "
   ]
  },
  {
   "cell_type": "markdown",
   "id": "4d260efa",
   "metadata": {},
   "source": [
    "There are several ways of measuring clustering. However, measuring metrics may be of limited use. An\n",
    " alternative is to rely on some external form of data with which to validate the method. For example,\n",
    " if we have labels for each object, then we can assume that objects with the same label are similar. We can then use the metrics we discuss below to quantify the quality of the clusters."
   ]
  },
  {
   "cell_type": "markdown",
   "id": "925a732d",
   "metadata": {},
   "source": [
    "# Labelled Data - Clustering Quality Evaluation Metrics"
   ]
  },
  {
   "cell_type": "markdown",
   "id": "5d16c021",
   "metadata": {},
   "source": [
    "### Purity"
   ]
  },
  {
   "cell_type": "markdown",
   "id": "9cb7b374",
   "metadata": {},
   "source": [
    "The purity ranges between 0 (bad) and 1 (good). However, we can trivially achieve a purity of 1 by \n",
    " putting each object into its own cluster, so this measure does not penalize for the number of clusters.\n",
    "<p align=\"center\">\n",
    "  <img src=\"./images/clusters1.png\"/>\n",
    "</p>\n",
    "\n"
   ]
  },
  {
   "cell_type": "code",
   "execution_count": 111,
   "id": "991d6435",
   "metadata": {},
   "outputs": [
    {
     "name": "stdout",
     "output_type": "stream",
     "text": [
      "Purity: 0.71\n"
     ]
    }
   ],
   "source": [
    "# Define the clusters\n",
    "clusters = [\n",
    "    {\"A\": 5, \"B\": 1},\n",
    "    {\"A\": 1, \"B\": 4, \"C\": 1},\n",
    "    {\"A\": 2, \"C\": 3}\n",
    "]\n",
    "\n",
    "# Calculate the total points across all clusters\n",
    "total_points = sum(sum(cluster.values()) for cluster in clusters)\n",
    "\n",
    "# Calculate the total points for each majority class count\n",
    "majority_sum = sum(max(cluster.values()) for cluster in clusters)\n",
    "\n",
    "# Calculate and print the purity (purity = majority points / total points)\n",
    "print(f\"Purity: {majority_sum / total_points:.2f}\")"
   ]
  },
  {
   "cell_type": "markdown",
   "id": "4101bf7c",
   "metadata": {},
   "source": [
    "### Rand Index & Adjusted Rand Index"
   ]
  },
  {
   "cell_type": "markdown",
   "id": "06cd727f",
   "metadata": {},
   "source": [
    "The Rand Index ranges between 0 (bad) and 1 (good). It measures how similar a predicted clustering is to the true class labels, based on all possible pairs of data points. A score of 1 means that every pair of points was either correctly grouped together or correctly kept apart.\n",
    "\n",
    "However, the Rand Index does not penalize for random chance: even poorly structured clusterings can sometimes get a high score simply by agreeing on many \"different\" pairs. That’s why an adjusted version, the Adjusted Rand Index (ARI), is often used as it corrects for the level of agreement expected by chance. \n",
    "\n",
    "The Adjusted Rand Index (ARI) ranges between -1 and 1, where 1 means a perfect match between the predicted clustering and the true labels, 0 means the clustering is no better than random chance, and negative values indicate worse-than-random clusterings.\n",
    "\n",
    "<p align=\"center\">\n",
    "  <img src=\"./images/clusters1.png\"/>\n",
    "</p>"
   ]
  },
  {
   "cell_type": "code",
   "execution_count": 112,
   "id": "c277aa40",
   "metadata": {},
   "outputs": [
    {
     "name": "stdout",
     "output_type": "stream",
     "text": [
      "Rand Index: 0.68\n",
      "Adjusted Rand Index: 0.24\n"
     ]
    }
   ],
   "source": [
    "from sklearn.metrics import rand_score\n",
    "from sklearn.metrics import adjusted_rand_score\n",
    "\n",
    "# Define the clusters and their true labels\n",
    "\n",
    "true_labels = ['A','A','A','A','A','B', \n",
    "               'A','B','B','B','B','C', \n",
    "               'A','A','C','C','C']\n",
    "\n",
    "predicted_labels = [0,0,0,0,0,0, \n",
    "                    1,1,1,1,1,1, \n",
    "                    2,2,2,2,2]\n",
    "\n",
    "# Compute Rand Index\n",
    "print(f\"Rand Index: {rand_score(true_labels, predicted_labels):.2f}\")\n",
    "\n",
    "# Compute Adjusted Rand Index\n",
    "print(f\"Adjusted Rand Index: {adjusted_rand_score(true_labels, predicted_labels):.2f}\")"
   ]
  },
  {
   "cell_type": "markdown",
   "id": "159a6fbb",
   "metadata": {},
   "source": [
    "### Mutual Information and Normalized Mutual Information"
   ]
  },
  {
   "cell_type": "markdown",
   "id": "31758f00",
   "metadata": {},
   "source": [
    "Mutual Information (MI) measures how much information the predicted clustering shares with the true labels. Higher values mean better agreement, but MI is unnormalized and depends on cluster sizes. Normalized Mutual Information (NMI) scales MI between 0 (no cluster-label ralation) and 1 (perfect correlation).\n",
    "\n",
    "\n",
    "<p align=\"center\">\n",
    "  <img src=\"./images/clusters1.png\"/>\n",
    "</p>"
   ]
  },
  {
   "cell_type": "code",
   "execution_count": 113,
   "id": "45de1db1",
   "metadata": {},
   "outputs": [
    {
     "name": "stdout",
     "output_type": "stream",
     "text": [
      "Mutual Information: 0.39\n",
      "Normalized Mutual Information: 0.36\n"
     ]
    }
   ],
   "source": [
    "from sklearn.metrics import mutual_info_score, normalized_mutual_info_score\n",
    "\n",
    "# Define the clusters and their true labels\n",
    "\n",
    "true_labels = ['A','A','A','A','A','B', \n",
    "               'A','B','B','B','B','C', \n",
    "               'A','A','C','C','C']\n",
    "\n",
    "predicted_labels = [0,0,0,0,0,0, \n",
    "                    1,1,1,1,1,1, \n",
    "                    2,2,2,2,2]\n",
    "\n",
    "# Compute Mutual Information\n",
    "print(f\"Mutual Information: {mutual_info_score(true_labels, predicted_labels):.2f}\")\n",
    "\n",
    "# Compute Normalized Mutual Information (NMI)\n",
    "print(f\"Normalized Mutual Information: {normalized_mutual_info_score(true_labels, predicted_labels):.2f}\")"
   ]
  },
  {
   "cell_type": "markdown",
   "id": "d3fb1b23",
   "metadata": {},
   "source": [
    "# Unlabelled Data - Clustering Techniques"
   ]
  },
  {
   "cell_type": "markdown",
   "id": "f75f7516",
   "metadata": {},
   "source": [
    "### Aglomerative (Bottom-Up Hierarchy)"
   ]
  },
  {
   "cell_type": "markdown",
   "id": "6847af9c",
   "metadata": {},
   "source": [
    "Agglomerative clustering is a bottom-up hierarchical clustering method where each data point starts as its own cluster. At each step, the two closest clusters are merged until all points form a single cluster or a stopping condition is met."
   ]
  },
  {
   "cell_type": "code",
   "execution_count": 114,
   "id": "05af31c5",
   "metadata": {},
   "outputs": [
    {
     "data": {
      "image/png": "[encoded data removed]",
      "text/plain": [
       "<Figure size 1200x300 with 2 Axes>"
      ]
     },
     "metadata": {},
     "output_type": "display_data"
    }
   ],
   "source": [
    "import numpy as np\n",
    "import matplotlib.pyplot as plt\n",
    "from scipy.cluster.hierarchy import dendrogram, linkage\n",
    "\n",
    "# Define the data points for clustering\n",
    "data_points = np.array([\n",
    "    [1, 2], [2, 1], [2, 2], [3, 3], [2, 3],\n",
    "    [5, 6], [6, 5], [6, 6], [8, 6], [7, 7],\n",
    "    [9, 2], [10, 1], [9, 3], [11, 2], [10, 3]])\n",
    "\n",
    "# Perform hierarchical/agglomerative clustering\n",
    "aglomerative_tree = linkage(data_points, method='single', metric='euclidean')\n",
    "\n",
    "#Plot the dendrogram and the data points\n",
    "fig, (ax1, ax2) = plt.subplots(1, 2, figsize=(12, 3))\n",
    "dendrogram(aglomerative_tree, ax=ax1)\n",
    "ax2.scatter(data_points[:, 0], data_points[:, 1])\n",
    "plt.show()"
   ]
  },
  {
   "cell_type": "markdown",
   "id": "207ff88b",
   "metadata": {},
   "source": [
    "### K Means"
   ]
  },
  {
   "cell_type": "markdown",
   "id": "88599575",
   "metadata": {},
   "source": [
    "K-means is an unsupervised clustering algorithm that partitions data into k groups by minimizing the variance within each cluster. It iteratively assigns points to the nearest cluster centroid and updates centroids until convergence."
   ]
  },
  {
   "cell_type": "code",
   "execution_count": null,
   "id": "6dda753a",
   "metadata": {},
   "outputs": [
    {
     "data": {
      "image/png": "[encoded data removed]",
      "text/plain": [
       "<Figure size 400x300 with 1 Axes>"
      ]
     },
     "metadata": {},
     "output_type": "display_data"
    }
   ],
   "source": [
    "import numpy as np\n",
    "import matplotlib.pyplot as plt\n",
    "from sklearn.cluster import KMeans\n",
    "\n",
    "# Define the data points for clustering\n",
    "data = np.array([\n",
    "    [1, 2], [2, 1], [2, 2], [3, 3], [2, 3],\n",
    "    [5, 6], [6, 5], [6, 6], [8, 6], [7, 7],\n",
    "    [9, 2], [10, 1], [9, 3], [11, 2], [10, 3]])\n",
    "\n",
    "# Perform KMeans clustering\n",
    "kmeans = KMeans(3).fit(data)\n",
    "\n",
    "# Plot the KMeans clustering results and decision boundary\n",
    "xx, yy = np.meshgrid(np.linspace(0, 12, 200), np.linspace(0, 8, 200))\n",
    "Z = kmeans.predict(np.c_[xx.ravel(), yy.ravel()]).reshape(xx.shape)\n",
    "\n",
    "plt.figure(figsize=(4, 3))\n",
    "plt.contourf(xx, yy, Z, alpha=0.2)\n",
    "plt.scatter(data[:, 0], data[:, 1], c=\"k\")\n",
    "plt.show()"
   ]
  }
 ],
 "metadata": {
  "kernelspec": {
   "display_name": "Python 3",
   "language": "python",
   "name": "python3"
  },
  "language_info": {
   "codemirror_mode": {
    "name": "ipython",
    "version": 3
   },
   "file_extension": ".py",
   "mimetype": "text/x-python",
   "name": "python",
   "nbconvert_exporter": "python",
   "pygments_lexer": "ipython3",
   "version": "3.11.1"
  }
 },
 "nbformat": 4,
 "nbformat_minor": 5
}
